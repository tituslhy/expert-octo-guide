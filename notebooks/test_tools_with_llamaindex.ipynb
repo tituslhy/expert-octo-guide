{
 "cells": [
  {
   "cell_type": "code",
   "execution_count": 1,
   "id": "ab2a3d6b",
   "metadata": {},
   "outputs": [],
   "source": [
    "import nest_asyncio\n",
    "nest_asyncio.apply()"
   ]
  },
  {
   "cell_type": "code",
   "execution_count": 2,
   "id": "ac8f543d",
   "metadata": {},
   "outputs": [],
   "source": [
    "from llama_index.tools.mcp import BasicMCPClient, McpToolSpec\n",
    "\n",
    "mcp_client = BasicMCPClient(\"http://localhost:8000/sse\")\n",
    "mcp_tool = McpToolSpec(client=mcp_client)"
   ]
  },
  {
   "cell_type": "code",
   "execution_count": 3,
   "id": "5b73e770",
   "metadata": {},
   "outputs": [
    {
     "name": "stdout",
     "output_type": "stream",
     "text": [
      "stock_tools_get_stock_price Gets stock prices for tickers of interest.\n",
      "    \n",
      "    Args:\n",
      "        ticker_list (TickerList): A TickerList schema containing the\n",
      "        stock tickers of interest and the price period of interest.\n",
      "    \n",
      "stock_tools_get_cagr Computes the compounded annual growth rate (CAGR) of a stock ticker of interest.\n",
      "writing_tools_generate_poem Generates a short poem about a given topic\n",
      "writing_tools_chat_with_docs \n",
      "    Allows users to ask questions about documents in the 'docs' resource.\n",
      "    'doc_name' can be a full or partial filename (e.g. 'paul_graham').\n",
      "    \n",
      "weather_tools_get_forecast__city__weather_post Get Forecast\n",
      "\n",
      "\n",
      "**Responses:**\n",
      "\n",
      "- **200** (Success): Successful Response\n",
      "  - Content-Type: `application/json`\n",
      "\n",
      "- **422**: Validation Error\n",
      "  - Content-Type: `application/json`\n",
      "\n",
      "  - **Example:**\n",
      "```json\n",
      "{\n",
      "  \"detail\": [\n",
      "    \"unknown_type\"\n",
      "  ]\n",
      "}\n",
      "```\n",
      "weather_tools_get_temperature_city__temperature_post Get Temperature\n",
      "\n",
      "\n",
      "**Responses:**\n",
      "\n",
      "- **200** (Success): Successful Response\n",
      "  - Content-Type: `application/json`\n",
      "\n",
      "- **422**: Validation Error\n",
      "  - Content-Type: `application/json`\n",
      "\n",
      "  - **Example:**\n",
      "```json\n",
      "{\n",
      "  \"detail\": [\n",
      "    \"unknown_type\"\n",
      "  ]\n",
      "}\n",
      "```\n",
      "ping \n"
     ]
    }
   ],
   "source": [
    "tools = await mcp_tool.to_tool_list_async()\n",
    "for tool in tools:\n",
    "    print(tool.metadata.name, tool.metadata.description)"
   ]
  },
  {
   "cell_type": "code",
   "execution_count": 4,
   "id": "1be122a2",
   "metadata": {},
   "outputs": [],
   "source": [
    "from llama_index.core.agent import FunctionCallingAgent\n",
    "from llama_index.llms.ollama import Ollama\n",
    "\n",
    "llm = Ollama(model=\"qwen2.5\", temperature=0)"
   ]
  },
  {
   "cell_type": "code",
   "execution_count": 5,
   "id": "682b6605",
   "metadata": {},
   "outputs": [],
   "source": [
    "agent = FunctionCallingAgent.from_tools(\n",
    "    llm = llm,\n",
    "    tools = tools\n",
    ")"
   ]
  },
  {
   "cell_type": "code",
   "execution_count": 6,
   "id": "a6ab9bbc",
   "metadata": {},
   "outputs": [],
   "source": [
    "response = agent.chat(\n",
    "    \"Can you give me the compounded annual growth rate of Illumina (ilmn) stock prices over the past 10 years?\"\n",
    ")"
   ]
  },
  {
   "cell_type": "code",
   "execution_count": 7,
   "id": "bdb85721",
   "metadata": {},
   "outputs": [
    {
     "data": {
      "text/markdown": [
       "The compounded annual growth rate (CAGR) for Illumina (ILMN) stock over the past 10 years is -9.3%. This indicates a decline in the stock price on an annualized basis over that period."
      ],
      "text/plain": [
       "<IPython.core.display.Markdown object>"
      ]
     },
     "metadata": {},
     "output_type": "display_data"
    }
   ],
   "source": [
    "from IPython.display import display, Markdown\n",
    "\n",
    "display(Markdown(str(response)))"
   ]
  },
  {
   "cell_type": "code",
   "execution_count": 8,
   "id": "bd4c1a43",
   "metadata": {},
   "outputs": [
    {
     "data": {
      "text/markdown": [
       "According to the forecast, tomorrow in Singapore will be sunny. Enjoy the weather!"
      ],
      "text/plain": [
       "<IPython.core.display.Markdown object>"
      ]
     },
     "metadata": {},
     "output_type": "display_data"
    }
   ],
   "source": [
    "response = agent.chat(\n",
    "    \"What is the weather going to be like in Singapore tomorrow?\"\n",
    ")\n",
    "display(Markdown(str(response)))"
   ]
  },
  {
   "cell_type": "code",
   "execution_count": 9,
   "id": "f0bda1ce",
   "metadata": {},
   "outputs": [
    {
     "data": {
      "text/markdown": [
       "The main idea of Paul Graham's essay \"paul_graham.txt\" is a reflection on his experiences in technology, entrepreneurship, and publishing. Specifically:\n",
       "\n",
       "1. It discusses the evolution of online publishing since the 90s.\n",
       "2. It recounts the history of Y Combinator (YC), including its founding and growth.\n",
       "3. There are reflections on customs and practices that persist even as circumstances change rapidly in tech fields.\n",
       "4. The author shares personal anecdotes about running a forum, writing essays, and working with co-founders.\n",
       "5. There's commentary on how rapid changes in technology and business have affected traditional practices like venture capital funding.\n",
       "6. The essay touches on the concept of invention vs discovery in programming languages.\n",
       "\n",
       "Overall, it seems to be a personal memoir that weaves together technical insights, business lessons, and reflections on change in the tech industry over time."
      ],
      "text/plain": [
       "<IPython.core.display.Markdown object>"
      ]
     },
     "metadata": {},
     "output_type": "display_data"
    }
   ],
   "source": [
    "response = agent.chat(\n",
    "    \"Can you tell me the main idea of the Paul Graham essay 'paul_graham.txt'?\"\n",
    ")\n",
    "display(Markdown(str(response)))"
   ]
  },
  {
   "cell_type": "markdown",
   "id": "9ba21a45",
   "metadata": {},
   "source": [
    "Verify CAGR output"
   ]
  },
  {
   "cell_type": "code",
   "execution_count": 10,
   "id": "f3d7bfe8",
   "metadata": {},
   "outputs": [],
   "source": [
    "import sys\n",
    "sys.path.append(\"../src\")\n",
    "from stock_utils import calculate_cagr"
   ]
  },
  {
   "cell_type": "code",
   "execution_count": 11,
   "id": "f5b6aeee",
   "metadata": {},
   "outputs": [
    {
     "data": {
      "text/plain": [
       "'-9.3%'"
      ]
     },
     "execution_count": 11,
     "metadata": {},
     "output_type": "execute_result"
    }
   ],
   "source": [
    "calculate_cagr(\"ilmn\", \"10y\")"
   ]
  }
 ],
 "metadata": {
  "kernelspec": {
   "display_name": "llamaindex",
   "language": "python",
   "name": "python3"
  },
  "language_info": {
   "codemirror_mode": {
    "name": "ipython",
    "version": 3
   },
   "file_extension": ".py",
   "mimetype": "text/x-python",
   "name": "python",
   "nbconvert_exporter": "python",
   "pygments_lexer": "ipython3",
   "version": "3.12.5"
  }
 },
 "nbformat": 4,
 "nbformat_minor": 5
}
