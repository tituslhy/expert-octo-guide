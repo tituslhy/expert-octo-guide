{
 "cells": [
  {
   "cell_type": "code",
   "execution_count": 1,
   "id": "586d8d77",
   "metadata": {},
   "outputs": [],
   "source": [
    "import nest_asyncio\n",
    "nest_asyncio.apply()"
   ]
  },
  {
   "cell_type": "code",
   "execution_count": 2,
   "id": "9ac1f9c7",
   "metadata": {},
   "outputs": [],
   "source": [
    "from fastmcp import Client\n",
    "from fastmcp.client.transports import SSETransport"
   ]
  },
  {
   "cell_type": "code",
   "execution_count": 3,
   "id": "49a4e35d",
   "metadata": {},
   "outputs": [],
   "source": [
    "async with Client(SSETransport(\"http://localhost:8000/sse\")) as client:\n",
    "    tools = await client.list_tools()"
   ]
  },
  {
   "cell_type": "code",
   "execution_count": 4,
   "id": "720968c2",
   "metadata": {},
   "outputs": [
    {
     "name": "stdout",
     "output_type": "stream",
     "text": [
      "name='stock_tools_get_stock_price' description='Gets stock prices for tickers of interest.\\n    \\n    Args:\\n        ticker_list (TickerList): A TickerList schema containing the\\n        stock tickers of interest and the price period of interest.\\n    ' inputSchema={'$defs': {'TickerList': {'properties': {'tickers': {'description': 'A list of stock tickers of interest', 'items': {'type': 'string'}, 'title': 'Tickers', 'type': 'array'}, 'period': {'anyOf': [{'enum': ['1d', '5d', '1mo', '3mo', '6mo', '1y', '2y', '5y', '10y', 'ytd', 'max'], 'type': 'string'}, {'type': 'null'}], 'default': '1mo', 'description': \"Time period for data retrieval. Defaults to '1mo'.\", 'title': 'Period'}}, 'required': ['tickers'], 'title': 'TickerList', 'type': 'object'}}, 'properties': {'ticker_list': {'$ref': '#/$defs/TickerList'}}, 'required': ['ticker_list'], 'title': 'get_stock_priceArguments', 'type': 'object'}\n",
      "name='stock_tools_get_cagr' description='Computes the compounded annual growth rate (CAGR) of a stock ticker of interest.' inputSchema={'properties': {'ticker': {'title': 'Ticker', 'type': 'string'}, 'period': {'anyOf': [{'enum': ['1d', '5d', '1mo', '3mo', '6mo', '1y', '2y', '5y', '10y', 'ytd', 'max'], 'type': 'string'}, {'type': 'null'}], 'default': '10y', 'title': 'Period'}}, 'required': ['ticker'], 'title': 'cagrArguments', 'type': 'object'}\n",
      "name='writing_tools_generate_poem' description='Generates a short poem about a given topic' inputSchema={'properties': {'topic': {'title': 'Topic', 'type': 'string'}, 'language': {'title': 'Language', 'type': 'string'}}, 'required': ['topic', 'language'], 'title': 'generate_poemArguments', 'type': 'object'}\n",
      "name='writing_tools_chat_with_docs' description=\"\\n    Allows users to ask questions about documents in the 'docs' resource.\\n    'doc_name' can be a full or partial filename (e.g. 'paul_graham').\\n    \" inputSchema={'properties': {'question': {'title': 'Question', 'type': 'string'}, 'doc_name': {'title': 'Doc Name', 'type': 'string'}}, 'required': ['question', 'doc_name'], 'title': 'chat_with_docsArguments', 'type': 'object'}\n",
      "name='weather_tools_get_forecast__city__weather_post' description='Get Forecast\\n\\n\\n**Responses:**\\n\\n- **200** (Success): Successful Response\\n  - Content-Type: `application/json`\\n\\n- **422**: Validation Error\\n  - Content-Type: `application/json`\\n\\n  - **Example:**\\n```json\\n{\\n  \"detail\": [\\n    \"unknown_type\"\\n  ]\\n}\\n```' inputSchema={'type': 'object', 'properties': {'city': {'type': 'string', 'title': 'City'}}, 'required': ['city']}\n",
      "name='weather_tools_get_temperature_city__temperature_post' description='Get Temperature\\n\\n\\n**Responses:**\\n\\n- **200** (Success): Successful Response\\n  - Content-Type: `application/json`\\n\\n- **422**: Validation Error\\n  - Content-Type: `application/json`\\n\\n  - **Example:**\\n```json\\n{\\n  \"detail\": [\\n    \"unknown_type\"\\n  ]\\n}\\n```' inputSchema={'type': 'object', 'properties': {'city': {'type': 'string', 'title': 'City'}}, 'required': ['city']}\n",
      "name='ping' description='' inputSchema={'properties': {}, 'title': 'pingArguments', 'type': 'object'}\n"
     ]
    }
   ],
   "source": [
    "for tool in tools:\n",
    "    print(tool)"
   ]
  },
  {
   "cell_type": "code",
   "execution_count": 5,
   "id": "8d7c1586",
   "metadata": {},
   "outputs": [],
   "source": [
    "async with Client(SSETransport(\"http://localhost:8000/sse\")) as client:\n",
    "    result = await client.call_tool(\n",
    "        \"writing_tools_chat_with_docs\",\n",
    "        {\n",
    "            \"doc_name\": \"paul_graham\",\n",
    "            \"question\": \"What is the main idea of the essay?\",\n",
    "        }\n",
    "    )"
   ]
  },
  {
   "cell_type": "code",
   "execution_count": 6,
   "id": "9d9b8b53",
   "metadata": {},
   "outputs": [
    {
     "name": "stdout",
     "output_type": "stream",
     "text": [
      "[TextContent(type='text', text=\"The essay primarily discusses the author's experiences and reflections on various aspects of his career, including:\\n\\n1. His work with Y Combinator (YC), a startup accelerator program.\\n2. The evolution of online publishing and essay writing in the 90s and early 2000s.\\n3. The impact of rapid technological change on customs and practices in different fields.\\n4. The challenges of running an online forum like Hacker News (HN).\\n5. Personal reflections on leaving YC and working with his co-founder, Jessica Livingston.\\n\\nThe main theme appears to be the author's observations on how technology and changing norms have affected various aspects of his professional life, particularly in the tech startup ecosystem and online publishing.\", annotations=None)]\n"
     ]
    }
   ],
   "source": [
    "print(result)"
   ]
  },
  {
   "cell_type": "code",
   "execution_count": 7,
   "id": "ee1206ee",
   "metadata": {},
   "outputs": [
    {
     "data": {
      "text/markdown": [
       "The essay primarily discusses the author's experiences and reflections on various aspects of his career, including:\n",
       "\n",
       "1. His work with Y Combinator (YC), a startup accelerator program.\n",
       "2. The evolution of online publishing and essay writing in the 90s and early 2000s.\n",
       "3. The impact of rapid technological change on customs and practices in different fields.\n",
       "4. The challenges of running an online forum like Hacker News (HN).\n",
       "5. Personal reflections on leaving YC and working with his co-founder, Jessica Livingston.\n",
       "\n",
       "The main theme appears to be the author's observations on how technology and changing norms have affected various aspects of his professional life, particularly in the tech startup ecosystem and online publishing."
      ],
      "text/plain": [
       "<IPython.core.display.Markdown object>"
      ]
     },
     "metadata": {},
     "output_type": "display_data"
    }
   ],
   "source": [
    "from IPython.display import display, Markdown\n",
    "\n",
    "display(Markdown(result[0].text))"
   ]
  },
  {
   "cell_type": "code",
   "execution_count": 8,
   "id": "34d35efe",
   "metadata": {},
   "outputs": [
    {
     "data": {
      "text/markdown": [
       "Sunny in London"
      ],
      "text/plain": [
       "<IPython.core.display.Markdown object>"
      ]
     },
     "metadata": {},
     "output_type": "display_data"
    }
   ],
   "source": [
    "async with Client(SSETransport(\"http://localhost:8000/sse\")) as client:\n",
    "    result = await client.call_tool(\n",
    "        \"weather_tools_get_forecast__city__weather_post\",\n",
    "        {\"city\": \"London\"}\n",
    "    )\n",
    "    display(Markdown(result[0].text))"
   ]
  },
  {
   "cell_type": "code",
   "execution_count": 9,
   "id": "0a671ad0",
   "metadata": {},
   "outputs": [],
   "source": [
    "async with Client(SSETransport(\"http://localhost:8000/sse\")) as client:\n",
    "    result = await client.call_tool(\n",
    "        \"stock_tools_get_stock_price\",\n",
    "        {\"ticker_list\": {\"tickers\": [\"AAPL\", \"GOOGL\"], \"period\": \"1mo\"}},\n",
    "    )"
   ]
  },
  {
   "cell_type": "code",
   "execution_count": 10,
   "id": "22b18ae4",
   "metadata": {},
   "outputs": [
    {
     "data": {
      "text/plain": [
       "[TextContent(type='text', text='{\"AAPL_price\": [{\"AAPL_open\": 214.16000366210938, \"AAPL_high\": 215.14999389648438, \"AAPL_low\": 211.49000549316406, \"AAPL_close\": 212.69000244140625, \"AAPL_volume\": 42432400, \"AAPL_dividends\": 0.0, \"AAPL_stock_splits\": 0.0}, {\"AAPL_open\": 214.22000122070312, \"AAPL_high\": 218.75999450683594, \"AAPL_low\": 213.75, \"AAPL_close\": 215.24000549316406, \"AAPL_volume\": 54385400, \"AAPL_dividends\": 0.0, \"AAPL_stock_splits\": 0.0}, {\"AAPL_open\": 213.99000549316406, \"AAPL_high\": 217.49000549316406, \"AAPL_low\": 212.22000122070312, \"AAPL_close\": 214.10000610351562, \"AAPL_volume\": 48862900, \"AAPL_dividends\": 0.0, \"AAPL_stock_splits\": 0.0}, {\"AAPL_open\": 211.55999755859375, \"AAPL_high\": 218.83999633789062, \"AAPL_low\": 211.27999877929688, \"AAPL_close\": 218.27000427246094, \"AAPL_volume\": 94127800, \"AAPL_dividends\": 0.0, \"AAPL_stock_splits\": 0.0}, {\"AAPL_open\": 221.0, \"AAPL_high\": 221.47999572753906, \"AAPL_low\": 218.5800018310547, \"AAPL_close\": 220.72999572753906, \"AAPL_volume\": 44299500, \"AAPL_dividends\": 0.0, \"AAPL_stock_splits\": 0.0}, {\"AAPL_open\": 220.77000427246094, \"AAPL_high\": 224.10000610351562, \"AAPL_low\": 220.0800018310547, \"AAPL_close\": 223.75, \"AAPL_volume\": 34493600, \"AAPL_dividends\": 0.0, \"AAPL_stock_splits\": 0.0}, {\"AAPL_open\": 223.50999450683594, \"AAPL_high\": 225.02000427246094, \"AAPL_low\": 220.47000122070312, \"AAPL_close\": 221.52999877929688, \"AAPL_volume\": 34466100, \"AAPL_dividends\": 0.0, \"AAPL_stock_splits\": 0.0}, {\"AAPL_open\": 221.38999938964844, \"AAPL_high\": 224.99000549316406, \"AAPL_low\": 220.55999755859375, \"AAPL_close\": 223.85000610351562, \"AAPL_volume\": 37094800, \"AAPL_dividends\": 0.0, \"AAPL_stock_splits\": 0.0}, {\"AAPL_open\": 221.6699981689453, \"AAPL_high\": 223.80999755859375, \"AAPL_low\": 217.67999267578125, \"AAPL_close\": 217.89999389648438, \"AAPL_volume\": 39818600, \"AAPL_dividends\": 0.0, \"AAPL_stock_splits\": 0.0}, {\"AAPL_open\": 217.00999450683594, \"AAPL_high\": 225.6199951171875, \"AAPL_low\": 216.22999572753906, \"AAPL_close\": 222.1300048828125, \"AAPL_volume\": 65299300, \"AAPL_dividends\": 0.0, \"AAPL_stock_splits\": 0.0}, {\"AAPL_open\": 219.80999755859375, \"AAPL_high\": 223.67999267578125, \"AAPL_low\": 218.89999389648438, \"AAPL_close\": 223.19000244140625, \"AAPL_volume\": 36412700, \"AAPL_dividends\": 0.0, \"AAPL_stock_splits\": 0.0}, {\"AAPL_open\": 221.32000732421875, \"AAPL_high\": 225.19000244140625, \"AAPL_low\": 221.02000427246094, \"AAPL_close\": 223.88999938964844, \"AAPL_volume\": 35905900, \"AAPL_dividends\": 0.0, \"AAPL_stock_splits\": 0.0}, {\"AAPL_open\": 205.5399932861328, \"AAPL_high\": 207.49000549316406, \"AAPL_low\": 201.25, \"AAPL_close\": 203.19000244140625, \"AAPL_volume\": 103419000, \"AAPL_dividends\": 0.0, \"AAPL_stock_splits\": 0.0}, {\"AAPL_open\": 193.88999938964844, \"AAPL_high\": 199.8800048828125, \"AAPL_low\": 187.33999633789062, \"AAPL_close\": 188.3800048828125, \"AAPL_volume\": 125910900, \"AAPL_dividends\": 0.0, \"AAPL_stock_splits\": 0.0}, {\"AAPL_open\": 177.1999969482422, \"AAPL_high\": 194.14999389648438, \"AAPL_low\": 174.6199951171875, \"AAPL_close\": 181.4600067138672, \"AAPL_volume\": 160466300, \"AAPL_dividends\": 0.0, \"AAPL_stock_splits\": 0.0}, {\"AAPL_open\": 186.6999969482422, \"AAPL_high\": 190.33999633789062, \"AAPL_low\": 169.2100067138672, \"AAPL_close\": 172.4199981689453, \"AAPL_volume\": 120859500, \"AAPL_dividends\": 0.0, \"AAPL_stock_splits\": 0.0}, {\"AAPL_open\": 171.9499969482422, \"AAPL_high\": 200.61000061035156, \"AAPL_low\": 171.88999938964844, \"AAPL_close\": 198.85000610351562, \"AAPL_volume\": 184395900, \"AAPL_dividends\": 0.0, \"AAPL_stock_splits\": 0.0}, {\"AAPL_open\": 189.07000732421875, \"AAPL_high\": 194.77999877929688, \"AAPL_low\": 183.0, \"AAPL_close\": 190.4199981689453, \"AAPL_volume\": 121880000, \"AAPL_dividends\": 0.0, \"AAPL_stock_splits\": 0.0}, {\"AAPL_open\": 186.10000610351562, \"AAPL_high\": 199.5399932861328, \"AAPL_low\": 186.05999755859375, \"AAPL_close\": 198.14999389648438, \"AAPL_volume\": 87435900, \"AAPL_dividends\": 0.0, \"AAPL_stock_splits\": 0.0}, {\"AAPL_open\": 211.44000244140625, \"AAPL_high\": 212.94000244140625, \"AAPL_low\": 201.16000366210938, \"AAPL_close\": 202.52000427246094, \"AAPL_volume\": 101352900, \"AAPL_dividends\": 0.0, \"AAPL_stock_splits\": 0.0}, {\"AAPL_open\": 201.86000061035156, \"AAPL_high\": 203.50999450683594, \"AAPL_low\": 199.8000030517578, \"AAPL_close\": 202.13999938964844, \"AAPL_volume\": 51343900, \"AAPL_dividends\": 0.0, \"AAPL_stock_splits\": 0.0}, {\"AAPL_open\": 198.36000061035156, \"AAPL_high\": 200.6999969482422, \"AAPL_low\": 192.3699951171875, \"AAPL_close\": 194.27000427246094, \"AAPL_volume\": 59732400, \"AAPL_dividends\": 0.0, \"AAPL_stock_splits\": 0.0}, {\"AAPL_open\": 197.1999969482422, \"AAPL_high\": 198.8300018310547, \"AAPL_low\": 194.4199981689453, \"AAPL_close\": 196.97999572753906, \"AAPL_volume\": 51334300, \"AAPL_dividends\": 0.0, \"AAPL_stock_splits\": 0.0}], \"GOOGL_price\": [{\"GOOGL_open\": 163.67999267578125, \"GOOGL_high\": 164.25, \"GOOGL_low\": 156.72000122070312, \"GOOGL_close\": 160.6699981689453, \"GOOGL_volume\": 42074800, \"GOOGL_dividends\": 0.0, \"GOOGL_stock_splits\": 0.0}, {\"GOOGL_open\": 161.75999450683594, \"GOOGL_high\": 165.8699951171875, \"GOOGL_low\": 161.0, \"GOOGL_close\": 163.88999938964844, \"GOOGL_volume\": 34275600, \"GOOGL_dividends\": 0.0, \"GOOGL_stock_splits\": 0.0}, {\"GOOGL_open\": 161.57000732421875, \"GOOGL_high\": 164.88999938964844, \"GOOGL_low\": 160.9600067138672, \"GOOGL_close\": 162.8000030517578, \"GOOGL_volume\": 28138500, \"GOOGL_dividends\": 0.0, \"GOOGL_stock_splits\": 0.0}, {\"GOOGL_open\": 161.2100067138672, \"GOOGL_high\": 164.24000549316406, \"GOOGL_low\": 160.88999938964844, \"GOOGL_close\": 163.99000549316406, \"GOOGL_volume\": 36625800, \"GOOGL_dividends\": 0.0, \"GOOGL_stock_splits\": 0.0}, {\"GOOGL_open\": 167.07000732421875, \"GOOGL_high\": 168.32000732421875, \"GOOGL_low\": 165.13999938964844, \"GOOGL_close\": 167.67999267578125, \"GOOGL_volume\": 30879100, \"GOOGL_dividends\": 0.0, \"GOOGL_stock_splits\": 0.0}, {\"GOOGL_open\": 168.97999572753906, \"GOOGL_high\": 170.6300048828125, \"GOOGL_low\": 168.32000732421875, \"GOOGL_close\": 170.55999755859375, \"GOOGL_volume\": 24174400, \"GOOGL_dividends\": 0.0, \"GOOGL_stock_splits\": 0.0}, {\"GOOGL_open\": 169.0, \"GOOGL_high\": 169.61000061035156, \"GOOGL_low\": 164.83999633789062, \"GOOGL_close\": 165.05999755859375, \"GOOGL_volume\": 28901600, \"GOOGL_dividends\": 0.0, \"GOOGL_stock_splits\": 0.0}, {\"GOOGL_open\": 164.6300048828125, \"GOOGL_high\": 165.4199981689453, \"GOOGL_low\": 162.0, \"GOOGL_close\": 162.24000549316406, \"GOOGL_volume\": 24508300, \"GOOGL_dividends\": 0.0, \"GOOGL_stock_splits\": 0.0}, {\"GOOGL_open\": 160.49000549316406, \"GOOGL_high\": 161.82000732421875, \"GOOGL_low\": 153.6300048828125, \"GOOGL_close\": 154.3300018310547, \"GOOGL_volume\": 48669300, \"GOOGL_dividends\": 0.0, \"GOOGL_stock_splits\": 0.0}, {\"GOOGL_open\": 153.11000061035156, \"GOOGL_high\": 155.5399932861328, \"GOOGL_low\": 150.66000366210938, \"GOOGL_close\": 154.63999938964844, \"GOOGL_volume\": 54603500, \"GOOGL_dividends\": 0.0, \"GOOGL_stock_splits\": 0.0}, {\"GOOGL_open\": 153.6199951171875, \"GOOGL_high\": 158.10000610351562, \"GOOGL_low\": 153.6199951171875, \"GOOGL_close\": 157.07000732421875, \"GOOGL_volume\": 30672900, \"GOOGL_dividends\": 0.0, \"GOOGL_stock_splits\": 0.0}, {\"GOOGL_open\": 155.14999389648438, \"GOOGL_high\": 158.41000366210938, \"GOOGL_low\": 154.6999969482422, \"GOOGL_close\": 157.0399932861328, \"GOOGL_volume\": 25041700, \"GOOGL_dividends\": 0.0, \"GOOGL_stock_splits\": 0.0}, {\"GOOGL_open\": 151.11000061035156, \"GOOGL_high\": 152.77999877929688, \"GOOGL_low\": 150.38999938964844, \"GOOGL_close\": 150.72000122070312, \"GOOGL_volume\": 46883400, \"GOOGL_dividends\": 0.0, \"GOOGL_stock_splits\": 0.0}, {\"GOOGL_open\": 148.00999450683594, \"GOOGL_high\": 151.07000732421875, \"GOOGL_low\": 145.3800048828125, \"GOOGL_close\": 145.60000610351562, \"GOOGL_volume\": 62259500, \"GOOGL_dividends\": 0.0, \"GOOGL_stock_splits\": 0.0}, {\"GOOGL_open\": 141.5500030517578, \"GOOGL_high\": 152.85000610351562, \"GOOGL_low\": 140.52999877929688, \"GOOGL_close\": 146.75, \"GOOGL_volume\": 76794100, \"GOOGL_dividends\": 0.0, \"GOOGL_stock_splits\": 0.0}, {\"GOOGL_open\": 151.22000122070312, \"GOOGL_high\": 152.24000549316406, \"GOOGL_low\": 143.02999877929688, \"GOOGL_close\": 144.6999969482422, \"GOOGL_volume\": 52200200, \"GOOGL_dividends\": 0.0, \"GOOGL_stock_splits\": 0.0}, {\"GOOGL_open\": 144.4199981689453, \"GOOGL_high\": 159.5500030517578, \"GOOGL_low\": 143.91000366210938, \"GOOGL_close\": 158.7100067138672, \"GOOGL_volume\": 70406200, \"GOOGL_dividends\": 0.0, \"GOOGL_stock_splits\": 0.0}, {\"GOOGL_open\": 156.5399932861328, \"GOOGL_high\": 157.72000122070312, \"GOOGL_low\": 149.92999267578125, \"GOOGL_close\": 152.82000732421875, \"GOOGL_volume\": 48022000, \"GOOGL_dividends\": 0.0, \"GOOGL_stock_splits\": 0.0}, {\"GOOGL_open\": 152.89999389648438, \"GOOGL_high\": 157.6699981689453, \"GOOGL_low\": 152.82000732421875, \"GOOGL_close\": 157.13999938964844, \"GOOGL_volume\": 33636200, \"GOOGL_dividends\": 0.0, \"GOOGL_stock_splits\": 0.0}, {\"GOOGL_open\": 160.0, \"GOOGL_high\": 161.72000122070312, \"GOOGL_low\": 157.55999755859375, \"GOOGL_close\": 159.07000732421875, \"GOOGL_volume\": 30333000, \"GOOGL_dividends\": 0.0, \"GOOGL_stock_splits\": 0.0}, {\"GOOGL_open\": 159.1300048828125, \"GOOGL_high\": 159.64999389648438, \"GOOGL_low\": 155.2100067138672, \"GOOGL_close\": 156.30999755859375, \"GOOGL_volume\": 27551500, \"GOOGL_dividends\": 0.0, \"GOOGL_stock_splits\": 0.0}, {\"GOOGL_open\": 153.10000610351562, \"GOOGL_high\": 155.88999938964844, \"GOOGL_low\": 151.50999450683594, \"GOOGL_close\": 153.3300018310547, \"GOOGL_volume\": 28187400, \"GOOGL_dividends\": 0.0, \"GOOGL_stock_splits\": 0.0}, {\"GOOGL_open\": 154.2899932861328, \"GOOGL_high\": 154.67999267578125, \"GOOGL_low\": 148.5, \"GOOGL_close\": 151.16000366210938, \"GOOGL_volume\": 33046600, \"GOOGL_dividends\": 0.0, \"GOOGL_stock_splits\": 0.0}]}', annotations=None)]"
      ]
     },
     "execution_count": 10,
     "metadata": {},
     "output_type": "execute_result"
    }
   ],
   "source": [
    "result"
   ]
  },
  {
   "cell_type": "code",
   "execution_count": 11,
   "id": "a8ee46e3",
   "metadata": {},
   "outputs": [],
   "source": [
    "import json\n",
    "\n",
    "dfs = json.loads(result[0].text)"
   ]
  },
  {
   "cell_type": "code",
   "execution_count": 12,
   "id": "50ff5d68",
   "metadata": {},
   "outputs": [
    {
     "data": {
      "text/plain": [
       "2"
      ]
     },
     "execution_count": 12,
     "metadata": {},
     "output_type": "execute_result"
    }
   ],
   "source": [
    "len(dfs)"
   ]
  },
  {
   "cell_type": "code",
   "execution_count": 13,
   "id": "d85ec7cb",
   "metadata": {},
   "outputs": [
    {
     "data": {
      "text/plain": [
       "[{'AAPL_open': 214.16000366210938,\n",
       "  'AAPL_high': 215.14999389648438,\n",
       "  'AAPL_low': 211.49000549316406,\n",
       "  'AAPL_close': 212.69000244140625,\n",
       "  'AAPL_volume': 42432400,\n",
       "  'AAPL_dividends': 0.0,\n",
       "  'AAPL_stock_splits': 0.0},\n",
       " {'AAPL_open': 214.22000122070312,\n",
       "  'AAPL_high': 218.75999450683594,\n",
       "  'AAPL_low': 213.75,\n",
       "  'AAPL_close': 215.24000549316406,\n",
       "  'AAPL_volume': 54385400,\n",
       "  'AAPL_dividends': 0.0,\n",
       "  'AAPL_stock_splits': 0.0},\n",
       " {'AAPL_open': 213.99000549316406,\n",
       "  'AAPL_high': 217.49000549316406,\n",
       "  'AAPL_low': 212.22000122070312,\n",
       "  'AAPL_close': 214.10000610351562,\n",
       "  'AAPL_volume': 48862900,\n",
       "  'AAPL_dividends': 0.0,\n",
       "  'AAPL_stock_splits': 0.0},\n",
       " {'AAPL_open': 211.55999755859375,\n",
       "  'AAPL_high': 218.83999633789062,\n",
       "  'AAPL_low': 211.27999877929688,\n",
       "  'AAPL_close': 218.27000427246094,\n",
       "  'AAPL_volume': 94127800,\n",
       "  'AAPL_dividends': 0.0,\n",
       "  'AAPL_stock_splits': 0.0},\n",
       " {'AAPL_open': 221.0,\n",
       "  'AAPL_high': 221.47999572753906,\n",
       "  'AAPL_low': 218.5800018310547,\n",
       "  'AAPL_close': 220.72999572753906,\n",
       "  'AAPL_volume': 44299500,\n",
       "  'AAPL_dividends': 0.0,\n",
       "  'AAPL_stock_splits': 0.0},\n",
       " {'AAPL_open': 220.77000427246094,\n",
       "  'AAPL_high': 224.10000610351562,\n",
       "  'AAPL_low': 220.0800018310547,\n",
       "  'AAPL_close': 223.75,\n",
       "  'AAPL_volume': 34493600,\n",
       "  'AAPL_dividends': 0.0,\n",
       "  'AAPL_stock_splits': 0.0},\n",
       " {'AAPL_open': 223.50999450683594,\n",
       "  'AAPL_high': 225.02000427246094,\n",
       "  'AAPL_low': 220.47000122070312,\n",
       "  'AAPL_close': 221.52999877929688,\n",
       "  'AAPL_volume': 34466100,\n",
       "  'AAPL_dividends': 0.0,\n",
       "  'AAPL_stock_splits': 0.0},\n",
       " {'AAPL_open': 221.38999938964844,\n",
       "  'AAPL_high': 224.99000549316406,\n",
       "  'AAPL_low': 220.55999755859375,\n",
       "  'AAPL_close': 223.85000610351562,\n",
       "  'AAPL_volume': 37094800,\n",
       "  'AAPL_dividends': 0.0,\n",
       "  'AAPL_stock_splits': 0.0},\n",
       " {'AAPL_open': 221.6699981689453,\n",
       "  'AAPL_high': 223.80999755859375,\n",
       "  'AAPL_low': 217.67999267578125,\n",
       "  'AAPL_close': 217.89999389648438,\n",
       "  'AAPL_volume': 39818600,\n",
       "  'AAPL_dividends': 0.0,\n",
       "  'AAPL_stock_splits': 0.0},\n",
       " {'AAPL_open': 217.00999450683594,\n",
       "  'AAPL_high': 225.6199951171875,\n",
       "  'AAPL_low': 216.22999572753906,\n",
       "  'AAPL_close': 222.1300048828125,\n",
       "  'AAPL_volume': 65299300,\n",
       "  'AAPL_dividends': 0.0,\n",
       "  'AAPL_stock_splits': 0.0},\n",
       " {'AAPL_open': 219.80999755859375,\n",
       "  'AAPL_high': 223.67999267578125,\n",
       "  'AAPL_low': 218.89999389648438,\n",
       "  'AAPL_close': 223.19000244140625,\n",
       "  'AAPL_volume': 36412700,\n",
       "  'AAPL_dividends': 0.0,\n",
       "  'AAPL_stock_splits': 0.0},\n",
       " {'AAPL_open': 221.32000732421875,\n",
       "  'AAPL_high': 225.19000244140625,\n",
       "  'AAPL_low': 221.02000427246094,\n",
       "  'AAPL_close': 223.88999938964844,\n",
       "  'AAPL_volume': 35905900,\n",
       "  'AAPL_dividends': 0.0,\n",
       "  'AAPL_stock_splits': 0.0},\n",
       " {'AAPL_open': 205.5399932861328,\n",
       "  'AAPL_high': 207.49000549316406,\n",
       "  'AAPL_low': 201.25,\n",
       "  'AAPL_close': 203.19000244140625,\n",
       "  'AAPL_volume': 103419000,\n",
       "  'AAPL_dividends': 0.0,\n",
       "  'AAPL_stock_splits': 0.0},\n",
       " {'AAPL_open': 193.88999938964844,\n",
       "  'AAPL_high': 199.8800048828125,\n",
       "  'AAPL_low': 187.33999633789062,\n",
       "  'AAPL_close': 188.3800048828125,\n",
       "  'AAPL_volume': 125910900,\n",
       "  'AAPL_dividends': 0.0,\n",
       "  'AAPL_stock_splits': 0.0},\n",
       " {'AAPL_open': 177.1999969482422,\n",
       "  'AAPL_high': 194.14999389648438,\n",
       "  'AAPL_low': 174.6199951171875,\n",
       "  'AAPL_close': 181.4600067138672,\n",
       "  'AAPL_volume': 160466300,\n",
       "  'AAPL_dividends': 0.0,\n",
       "  'AAPL_stock_splits': 0.0},\n",
       " {'AAPL_open': 186.6999969482422,\n",
       "  'AAPL_high': 190.33999633789062,\n",
       "  'AAPL_low': 169.2100067138672,\n",
       "  'AAPL_close': 172.4199981689453,\n",
       "  'AAPL_volume': 120859500,\n",
       "  'AAPL_dividends': 0.0,\n",
       "  'AAPL_stock_splits': 0.0},\n",
       " {'AAPL_open': 171.9499969482422,\n",
       "  'AAPL_high': 200.61000061035156,\n",
       "  'AAPL_low': 171.88999938964844,\n",
       "  'AAPL_close': 198.85000610351562,\n",
       "  'AAPL_volume': 184395900,\n",
       "  'AAPL_dividends': 0.0,\n",
       "  'AAPL_stock_splits': 0.0},\n",
       " {'AAPL_open': 189.07000732421875,\n",
       "  'AAPL_high': 194.77999877929688,\n",
       "  'AAPL_low': 183.0,\n",
       "  'AAPL_close': 190.4199981689453,\n",
       "  'AAPL_volume': 121880000,\n",
       "  'AAPL_dividends': 0.0,\n",
       "  'AAPL_stock_splits': 0.0},\n",
       " {'AAPL_open': 186.10000610351562,\n",
       "  'AAPL_high': 199.5399932861328,\n",
       "  'AAPL_low': 186.05999755859375,\n",
       "  'AAPL_close': 198.14999389648438,\n",
       "  'AAPL_volume': 87435900,\n",
       "  'AAPL_dividends': 0.0,\n",
       "  'AAPL_stock_splits': 0.0},\n",
       " {'AAPL_open': 211.44000244140625,\n",
       "  'AAPL_high': 212.94000244140625,\n",
       "  'AAPL_low': 201.16000366210938,\n",
       "  'AAPL_close': 202.52000427246094,\n",
       "  'AAPL_volume': 101352900,\n",
       "  'AAPL_dividends': 0.0,\n",
       "  'AAPL_stock_splits': 0.0},\n",
       " {'AAPL_open': 201.86000061035156,\n",
       "  'AAPL_high': 203.50999450683594,\n",
       "  'AAPL_low': 199.8000030517578,\n",
       "  'AAPL_close': 202.13999938964844,\n",
       "  'AAPL_volume': 51343900,\n",
       "  'AAPL_dividends': 0.0,\n",
       "  'AAPL_stock_splits': 0.0},\n",
       " {'AAPL_open': 198.36000061035156,\n",
       "  'AAPL_high': 200.6999969482422,\n",
       "  'AAPL_low': 192.3699951171875,\n",
       "  'AAPL_close': 194.27000427246094,\n",
       "  'AAPL_volume': 59732400,\n",
       "  'AAPL_dividends': 0.0,\n",
       "  'AAPL_stock_splits': 0.0},\n",
       " {'AAPL_open': 197.1999969482422,\n",
       "  'AAPL_high': 198.8300018310547,\n",
       "  'AAPL_low': 194.4199981689453,\n",
       "  'AAPL_close': 196.97999572753906,\n",
       "  'AAPL_volume': 51334300,\n",
       "  'AAPL_dividends': 0.0,\n",
       "  'AAPL_stock_splits': 0.0}]"
      ]
     },
     "execution_count": 13,
     "metadata": {},
     "output_type": "execute_result"
    }
   ],
   "source": [
    "dfs[list(dfs.keys())[0]]"
   ]
  }
 ],
 "metadata": {
  "kernelspec": {
   "display_name": "llamaindex",
   "language": "python",
   "name": "python3"
  },
  "language_info": {
   "codemirror_mode": {
    "name": "ipython",
    "version": 3
   },
   "file_extension": ".py",
   "mimetype": "text/x-python",
   "name": "python",
   "nbconvert_exporter": "python",
   "pygments_lexer": "ipython3",
   "version": "3.12.5"
  }
 },
 "nbformat": 4,
 "nbformat_minor": 5
}
