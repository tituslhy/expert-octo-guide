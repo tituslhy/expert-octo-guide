{
 "cells": [
  {
   "cell_type": "code",
   "execution_count": 1,
   "id": "e31bb6fe",
   "metadata": {},
   "outputs": [],
   "source": [
    "import nest_asyncio\n",
    "\n",
    "nest_asyncio.apply()"
   ]
  },
  {
   "cell_type": "markdown",
   "id": "e5ce443a",
   "metadata": {},
   "source": [
    "In the root folder, run:\n",
    "```\n",
    "uv run controllers/api.py --server_type=sse\n",
    "```\n",
    "This spins up the mcp server on port 3000 accessible via localhost:3000/sse"
   ]
  },
  {
   "cell_type": "markdown",
   "id": "04991b50",
   "metadata": {},
   "source": [
    "# Interact with it!"
   ]
  },
  {
   "cell_type": "code",
   "execution_count": 15,
   "id": "bdb928bc",
   "metadata": {},
   "outputs": [
    {
     "name": "stdout",
     "output_type": "stream",
     "text": [
      "[Tool(name='get_forecast__city__weather_post', description='Get Forecast\\n\\n\\n**Responses:**\\n\\n- **200** (Success): Successful Response\\n  - Content-Type: `application/json`\\n\\n- **422**: Validation Error\\n  - Content-Type: `application/json`\\n\\n  - **Example:**\\n```json\\n{\\n  \"detail\": [\\n    \"unknown_type\"\\n  ]\\n}\\n```', inputSchema={'type': 'object', 'properties': {'city': {'type': 'string', 'title': 'City'}}, 'required': ['city']}), Tool(name='get_temperature_city__temperature_post', description='Get Temperature\\n\\n\\n**Responses:**\\n\\n- **200** (Success): Successful Response\\n  - Content-Type: `application/json`\\n\\n- **422**: Validation Error\\n  - Content-Type: `application/json`\\n\\n  - **Example:**\\n```json\\n{\\n  \"detail\": [\\n    \"unknown_type\"\\n  ]\\n}\\n```', inputSchema={'type': 'object', 'properties': {'city': {'type': 'string', 'title': 'City'}}, 'required': ['city']})]\n"
     ]
    }
   ],
   "source": [
    "from fastmcp import Client\n",
    "from fastmcp.client.transports import SSETransport\n",
    "\n",
    "async with Client(SSETransport(\"http://localhost:3000/sse\")) as client:\n",
    "    tools = await client.list_tools()\n",
    "    print(tools)"
   ]
  },
  {
   "cell_type": "code",
   "execution_count": 14,
   "id": "c13ead03",
   "metadata": {},
   "outputs": [
    {
     "data": {
      "text/markdown": [
       "name='get_temperature_city__temperature_post' description='Get Temperature\\n\\n\\n**Responses:**\\n\\n- **200** (Success): Successful Response\\n  - Content-Type: `application/json`\\n\\n- **422**: Validation Error\\n  - Content-Type: `application/json`\\n\\n  - **Example:**\\n```json\\n{\\n  \"detail\": [\\n    \"unknown_type\"\\n  ]\\n}\\n```' inputSchema={'type': 'object', 'properties': {'city': {'type': 'string', 'title': 'City'}}, 'required': ['city']}"
      ],
      "text/plain": [
       "<IPython.core.display.Markdown object>"
      ]
     },
     "metadata": {},
     "output_type": "display_data"
    }
   ],
   "source": [
    "from IPython.display import display, Markdown\n",
    "\n",
    "display(Markdown(str(tools[-1])))"
   ]
  },
  {
   "cell_type": "markdown",
   "id": "b615b7c3",
   "metadata": {},
   "source": [
    "Notice how barebones the documentation is! "
   ]
  },
  {
   "cell_type": "code",
   "execution_count": 4,
   "id": "b87cb9da",
   "metadata": {},
   "outputs": [
    {
     "name": "stdout",
     "output_type": "stream",
     "text": [
      "[TextContent(type='text', text='Sunny in London', annotations=None)]\n"
     ]
    }
   ],
   "source": [
    "async with Client(SSETransport(\"http://localhost:3000/sse\")) as client:\n",
    "    result = await client.call_tool(\n",
    "        \"get_forecast__city__weather_post\",\n",
    "        {\"city\": \"London\"}\n",
    "    )\n",
    "    print(result)"
   ]
  },
  {
   "cell_type": "markdown",
   "id": "cde30cd5",
   "metadata": {},
   "source": [
    "Note that you have to use uvicorn to spin up your fastapi app separately! In the terminal (at the root folder), type this:\n",
    "```uvicorn controllers.api:fastapi_app --port 8000```"
   ]
  },
  {
   "cell_type": "code",
   "execution_count": 10,
   "id": "a0688fb3",
   "metadata": {},
   "outputs": [
    {
     "data": {
      "text/plain": [
       "{'status': 'running'}"
      ]
     },
     "execution_count": 10,
     "metadata": {},
     "output_type": "execute_result"
    }
   ],
   "source": [
    "import requests\n",
    "\n",
    "response = requests.get(\"http://localhost:8000/status\", params = {})\n",
    "response.json()"
   ]
  },
  {
   "cell_type": "code",
   "execution_count": null,
   "id": "4f8973e3",
   "metadata": {},
   "outputs": [],
   "source": []
  }
 ],
 "metadata": {
  "kernelspec": {
   "display_name": "llamaindex",
   "language": "python",
   "name": "python3"
  },
  "language_info": {
   "codemirror_mode": {
    "name": "ipython",
    "version": 3
   },
   "file_extension": ".py",
   "mimetype": "text/x-python",
   "name": "python",
   "nbconvert_exporter": "python",
   "pygments_lexer": "ipython3",
   "version": "3.12.5"
  }
 },
 "nbformat": 4,
 "nbformat_minor": 5
}
