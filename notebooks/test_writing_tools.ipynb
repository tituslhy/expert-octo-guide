{
 "cells": [
  {
   "cell_type": "code",
   "execution_count": 1,
   "id": "6dd6c7fb",
   "metadata": {},
   "outputs": [
    {
     "name": "stdout",
     "output_type": "stream",
     "text": [
      "[Tool(name='generate_poem', description='Generates a short poem about a given topic', inputSchema={'properties': {'topic': {'title': 'Topic', 'type': 'string'}, 'language': {'title': 'Language', 'type': 'string'}}, 'required': ['topic', 'language'], 'title': 'generate_poemArguments', 'type': 'object'}), Tool(name='chat_with_docs', description=\"\\n    Allows users to ask questions about documents in the 'docs' resource.\\n    'doc_name' can be a full or partial filename (e.g. 'paul_graham').\\n    \", inputSchema={'properties': {'question': {'title': 'Question', 'type': 'string'}, 'doc_name': {'title': 'Doc Name', 'type': 'string'}}, 'required': ['question', 'doc_name'], 'title': 'chat_with_docsArguments', 'type': 'object'})]\n"
     ]
    }
   ],
   "source": [
    "from fastmcp import Client\n",
    "from fastmcp.client.transports import SSETransport\n",
    "\n",
    "async with Client(SSETransport(\"http://localhost:8000/sse\")) as client:\n",
    "    tools = await client.list_tools()\n",
    "    print(tools)"
   ]
  },
  {
   "cell_type": "code",
   "execution_count": 2,
   "id": "99fb4b10",
   "metadata": {},
   "outputs": [
    {
     "name": "stdout",
     "output_type": "stream",
     "text": [
      "[Resource(uri=AnyUrl('resource://docs'), name='Docs folder', description='Essays and other documents', mimeType='application/json', size=None, annotations=None)]\n"
     ]
    }
   ],
   "source": [
    "async with Client(SSETransport(\"http://localhost:8000/sse\")) as client:\n",
    "    resources = await client.list_resources()\n",
    "    print(resources)"
   ]
  },
  {
   "cell_type": "code",
   "execution_count": 3,
   "id": "ea8aa5a9",
   "metadata": {},
   "outputs": [],
   "source": [
    "async with Client(SSETransport(\"http://localhost:8000/sse\")) as client:\n",
    "    result = await client.call_tool(\n",
    "        \"generate_poem\",\n",
    "        {\"topic\": \"Staying resilient in the face of adversity\",\n",
    "         \"language\": \"English\"}\n",
    "    )"
   ]
  },
  {
   "cell_type": "code",
   "execution_count": 4,
   "id": "8e1c47a6",
   "metadata": {},
   "outputs": [
    {
     "name": "stdout",
     "output_type": "stream",
     "text": [
      "[TextContent(type='text', text=\"In shadow's grip, yet never down,\\nThe spirit soars on wings unbound.\\nThough storms may rage and nights be long,\\nWithin the soul, resilience throngs.\\n\\nLike roots that find what moisture lies,\\nYou dig deep when paths lie dry.\\nEven as winds howl loud and strong,\\nYour core holds fast, brave is your song.\", annotations=None)]\n"
     ]
    }
   ],
   "source": [
    "print(result)"
   ]
  },
  {
   "cell_type": "code",
   "execution_count": 5,
   "id": "fb61efac",
   "metadata": {},
   "outputs": [
    {
     "data": {
      "text/markdown": [
       "In shadow's grip, yet never down,\n",
       "The spirit soars on wings unbound.\n",
       "Though storms may rage and nights be long,\n",
       "Within the soul, resilience throngs.\n",
       "\n",
       "Like roots that find what moisture lies,\n",
       "You dig deep when paths lie dry.\n",
       "Even as winds howl loud and strong,\n",
       "Your core holds fast, brave is your song."
      ],
      "text/plain": [
       "<IPython.core.display.Markdown object>"
      ]
     },
     "metadata": {},
     "output_type": "display_data"
    }
   ],
   "source": [
    "from IPython.display import display, Markdown\n",
    "\n",
    "display(Markdown(\n",
    "    result[0].text\n",
    "))"
   ]
  },
  {
   "cell_type": "code",
   "execution_count": 6,
   "id": "0ab69297",
   "metadata": {},
   "outputs": [],
   "source": [
    "async with Client(SSETransport(\"http://localhost:8000/sse\")) as client:\n",
    "    result = await client.call_tool(\n",
    "        \"chat_with_docs\",\n",
    "        {\n",
    "            \"doc_name\": \"paul_graham\",\n",
    "            \"question\": \"Where did Paul Graham go to school?\",\n",
    "        }\n",
    "    )"
   ]
  },
  {
   "cell_type": "code",
   "execution_count": 7,
   "id": "a38807ee",
   "metadata": {},
   "outputs": [
    {
     "data": {
      "text/markdown": [
       "The document doesn't provide explicit information about where Paul Graham went to school. To infer from the content given:\n",
       "\n",
       "1. No mention is made of his schooling in the provided text.\n",
       "2. He studied at MIT, but only in relation to his work with Lisp and research:\n",
       "   \"MIT was doing interesting things with Lisp, for example.\"\n",
       "3. The text does not directly state where he received his education or degrees.\n",
       "\n",
       "Given that Paul Graham has an MIT connection through his work (as mentioned), it's reasonable to assume he likely attended MIT, but this is not explicitly stated in the provided document fragment."
      ],
      "text/plain": [
       "<IPython.core.display.Markdown object>"
      ]
     },
     "metadata": {},
     "output_type": "display_data"
    }
   ],
   "source": [
    "display(Markdown(\n",
    "    result[0].text\n",
    "))"
   ]
  },
  {
   "cell_type": "code",
   "execution_count": null,
   "id": "45489caa",
   "metadata": {},
   "outputs": [],
   "source": []
  }
 ],
 "metadata": {
  "kernelspec": {
   "display_name": "llamaindex",
   "language": "python",
   "name": "python3"
  },
  "language_info": {
   "codemirror_mode": {
    "name": "ipython",
    "version": 3
   },
   "file_extension": ".py",
   "mimetype": "text/x-python",
   "name": "python",
   "nbconvert_exporter": "python",
   "pygments_lexer": "ipython3",
   "version": "3.12.5"
  }
 },
 "nbformat": 4,
 "nbformat_minor": 5
}
